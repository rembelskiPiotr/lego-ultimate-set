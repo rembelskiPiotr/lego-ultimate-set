{
 "cells": [
  {
   "attachments": {},
   "cell_type": "markdown",
   "metadata": {},
   "source": [
    "goal is to get 2022 technics sets inventory listed and calculate super-set and corelation for all set to super-set<br>\n",
    "to do:\n",
    "* get id of technic theme from GET /api/v3/lego/themes/ and save a it\n",
    "* get list of sets from GET /api/v3/lego/sets/ filtered by paramters: technic theme id and year 2022 \n",
    "* for each set get inventory from GET /api/v3/lego/sets/{set_num}/parts/ and store it in table\n",
    "* build super-set(max for each part)\n",
    "* calculate corelation for each of starting sets with super-set"
   ]
  },
  {
   "cell_type": "code",
   "execution_count": 37,
   "metadata": {},
   "outputs": [],
   "source": [
    "import requests\n",
    "import json\n",
    "\n",
    "keys = json.load(open('keys.json'))\n",
    "API_KEY = '/?key=' + keys['API_KEY']\n",
    "api_url = 'https://rebrickable.com/api/v3/'"
   ]
  },
  {
   "cell_type": "code",
   "execution_count": 41,
   "metadata": {},
   "outputs": [
    {
     "data": {
      "text/plain": [
       "'1'"
      ]
     },
     "execution_count": 41,
     "metadata": {},
     "output_type": "execute_result"
    }
   ],
   "source": [
    "themes_url = api_url + 'lego/themes' + API_KEY\n",
    "response = requests.get(themes_url).json()\n",
    "themes = response['results']\n",
    "\n",
    "for theme in themes:\n",
    "    if theme['name'] == 'Technic':\n",
    "        technic_theme_id = str(theme['id'])\n",
    "\n",
    "technic_theme_id\n"
   ]
  },
  {
   "cell_type": "code",
   "execution_count": 42,
   "metadata": {},
   "outputs": [
    {
     "data": {
      "text/plain": [
       "['30433-1',\n",
       " '42130-1',\n",
       " '42132-1',\n",
       " '42133-1',\n",
       " '42134-1',\n",
       " '42135-1',\n",
       " '42136-1',\n",
       " '42137-1',\n",
       " '42138-1',\n",
       " '42139-1',\n",
       " '42140-1',\n",
       " '42141-1',\n",
       " '42141-2',\n",
       " '42143-1',\n",
       " '42144-1',\n",
       " '42145-1',\n",
       " '66712-1']"
      ]
     },
     "execution_count": 42,
     "metadata": {},
     "output_type": "execute_result"
    }
   ],
   "source": [
    "\n",
    "theme_id = technic_theme_id\n",
    "min_year = '2022'\n",
    "max_year = '2022'\n",
    "sets_url = api_url + 'lego/sets' + API_KEY + \\\n",
    "    '&theme_id=' + theme_id + '&min_year=' + min_year + '&max_year=' + max_year\n",
    "response = requests.get(sets_url).json()\n",
    "sets = response['results']\n",
    "sets_list = []\n",
    "\n",
    "for set in sets:\n",
    "    sets_list.append(set['set_num'])\n",
    "\n",
    "sets_list\n"
   ]
  },
  {
   "cell_type": "code",
   "execution_count": 45,
   "metadata": {},
   "outputs": [
    {
     "data": {
      "text/html": [
       "<div>\n",
       "<style scoped>\n",
       "    .dataframe tbody tr th:only-of-type {\n",
       "        vertical-align: middle;\n",
       "    }\n",
       "\n",
       "    .dataframe tbody tr th {\n",
       "        vertical-align: top;\n",
       "    }\n",
       "\n",
       "    .dataframe thead th {\n",
       "        text-align: right;\n",
       "    }\n",
       "</style>\n",
       "<table border=\"1\" class=\"dataframe\">\n",
       "  <thead>\n",
       "    <tr style=\"text-align: right;\">\n",
       "      <th></th>\n",
       "      <th>set_number</th>\n",
       "      <th>part_number</th>\n",
       "      <th>quantity</th>\n",
       "    </tr>\n",
       "  </thead>\n",
       "  <tbody>\n",
       "    <tr>\n",
       "      <th>0</th>\n",
       "      <td>30433-1</td>\n",
       "      <td>50335</td>\n",
       "      <td>1</td>\n",
       "    </tr>\n",
       "    <tr>\n",
       "      <th>1</th>\n",
       "      <td>30433-1</td>\n",
       "      <td>53923</td>\n",
       "      <td>1</td>\n",
       "    </tr>\n",
       "    <tr>\n",
       "      <th>2</th>\n",
       "      <td>30433-1</td>\n",
       "      <td>11478</td>\n",
       "      <td>2</td>\n",
       "    </tr>\n",
       "    <tr>\n",
       "      <th>3</th>\n",
       "      <td>30433-1</td>\n",
       "      <td>32348</td>\n",
       "      <td>2</td>\n",
       "    </tr>\n",
       "    <tr>\n",
       "      <th>4</th>\n",
       "      <td>30433-1</td>\n",
       "      <td>32526</td>\n",
       "      <td>2</td>\n",
       "    </tr>\n",
       "    <tr>\n",
       "      <th>...</th>\n",
       "      <td>...</td>\n",
       "      <td>...</td>\n",
       "      <td>...</td>\n",
       "    </tr>\n",
       "    <tr>\n",
       "      <th>1386</th>\n",
       "      <td>42145-1</td>\n",
       "      <td>32073</td>\n",
       "      <td>27</td>\n",
       "    </tr>\n",
       "    <tr>\n",
       "      <th>1387</th>\n",
       "      <td>42145-1</td>\n",
       "      <td>60485</td>\n",
       "      <td>5</td>\n",
       "    </tr>\n",
       "    <tr>\n",
       "      <th>1388</th>\n",
       "      <td>42145-1</td>\n",
       "      <td>32013</td>\n",
       "      <td>8</td>\n",
       "    </tr>\n",
       "    <tr>\n",
       "      <th>1389</th>\n",
       "      <td>42145-1</td>\n",
       "      <td>6536</td>\n",
       "      <td>27</td>\n",
       "    </tr>\n",
       "    <tr>\n",
       "      <th>1390</th>\n",
       "      <td>42145-1</td>\n",
       "      <td>42003</td>\n",
       "      <td>22</td>\n",
       "    </tr>\n",
       "  </tbody>\n",
       "</table>\n",
       "<p>1391 rows × 3 columns</p>\n",
       "</div>"
      ],
      "text/plain": [
       "     set_number part_number  quantity\n",
       "0       30433-1       50335         1\n",
       "1       30433-1       53923         1\n",
       "2       30433-1       11478         2\n",
       "3       30433-1       32348         2\n",
       "4       30433-1       32526         2\n",
       "...         ...         ...       ...\n",
       "1386    42145-1       32073        27\n",
       "1387    42145-1       60485         5\n",
       "1388    42145-1       32013         8\n",
       "1389    42145-1        6536        27\n",
       "1390    42145-1       42003        22\n",
       "\n",
       "[1391 rows x 3 columns]"
      ]
     },
     "execution_count": 45,
     "metadata": {},
     "output_type": "execute_result"
    }
   ],
   "source": [
    "set_numbers, part_numbers, quantities = [], [], []\n",
    "\n",
    "for set in sets_list:\n",
    "    inventory_parts_url = api_url + 'lego/sets/' + \\\n",
    "        set + '/parts' + API_KEY + '&inc_color_details=0'\n",
    "    response = requests.get(inventory_parts_url).json()\n",
    "    inventory_parts = response['results']\n",
    "    for part in inventory_parts:\n",
    "        set_numbers.append(set)\n",
    "        part_numbers.append(part['part']['part_num'])\n",
    "        quantities.append(part['quantity'])\n",
    "\n",
    "\n",
    "inventory_part_dictionary = {'set_number': set_numbers,\n",
    "             'part_number': part_numbers, 'quantity': quantities}\n",
    "import pandas as pd\n",
    "\n",
    "df = pd.DataFrame(inventory_part_dictionary)\n",
    "df\n"
   ]
  }
 ],
 "metadata": {
  "kernelspec": {
   "display_name": "Python 3",
   "language": "python",
   "name": "python3"
  },
  "language_info": {
   "codemirror_mode": {
    "name": "ipython",
    "version": 3
   },
   "file_extension": ".py",
   "mimetype": "text/x-python",
   "name": "python",
   "nbconvert_exporter": "python",
   "pygments_lexer": "ipython3",
   "version": "3.10.8"
  },
  "orig_nbformat": 4
 },
 "nbformat": 4,
 "nbformat_minor": 2
}
