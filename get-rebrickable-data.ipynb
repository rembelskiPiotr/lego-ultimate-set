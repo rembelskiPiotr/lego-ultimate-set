{
 "cells": [
  {
   "cell_type": "code",
   "execution_count": 6,
   "metadata": {},
   "outputs": [],
   "source": [
    "import requests\n",
    "import pandas as pd\n",
    "import json"
   ]
  },
  {
   "cell_type": "code",
   "execution_count": 5,
   "metadata": {},
   "outputs": [],
   "source": [
    "keys = json.load(open('keys.json'))\n",
    "API_KEY = keys['API_KEY']\n"
   ]
  },
  {
   "cell_type": "code",
   "execution_count": 10,
   "metadata": {},
   "outputs": [
    {
     "data": {
      "text/plain": [
       "{'count': 19781,\n",
       " 'next': 'https://rebrickable.com/api/v3/lego/sets/?key=1d750257c9e47e21eebce7764f7a2623&page=2&page_size=10',\n",
       " 'previous': None,\n",
       " 'results': [{'set_num': '001-1',\n",
       "   'name': 'Gears',\n",
       "   'year': 1965,\n",
       "   'theme_id': 1,\n",
       "   'num_parts': 43,\n",
       "   'set_img_url': 'https://cdn.rebrickable.com/media/sets/001-1/11530.jpg',\n",
       "   'set_url': 'https://rebrickable.com/sets/001-1/gears/',\n",
       "   'last_modified_dt': '2018-05-05T20:39:47.277922Z'},\n",
       "  {'set_num': '0011-2',\n",
       "   'name': 'Town Mini-Figures',\n",
       "   'year': 1979,\n",
       "   'theme_id': 67,\n",
       "   'num_parts': 12,\n",
       "   'set_img_url': 'https://cdn.rebrickable.com/media/sets/0011-2/3318.jpg',\n",
       "   'set_url': 'https://rebrickable.com/sets/0011-2/town-mini-figures/',\n",
       "   'last_modified_dt': '2021-07-04T19:03:52.273186Z'},\n",
       "  {'set_num': '0011-3',\n",
       "   'name': 'Castle 2 for 1 Bonus Offer',\n",
       "   'year': 1987,\n",
       "   'theme_id': 199,\n",
       "   'num_parts': 0,\n",
       "   'set_img_url': 'https://cdn.rebrickable.com/media/sets/0011-3/2729.jpg',\n",
       "   'set_url': 'https://rebrickable.com/sets/0011-3/castle-2-for-1-bonus-offer/',\n",
       "   'last_modified_dt': '2012-04-01T04:47:31.488559Z'},\n",
       "  {'set_num': '0012-1',\n",
       "   'name': 'Space Mini-Figures',\n",
       "   'year': 1979,\n",
       "   'theme_id': 143,\n",
       "   'num_parts': 12,\n",
       "   'set_img_url': 'https://cdn.rebrickable.com/media/sets/0012-1/1831.jpg',\n",
       "   'set_url': 'https://rebrickable.com/sets/0012-1/space-mini-figures/',\n",
       "   'last_modified_dt': '2013-12-12T23:12:14.245364Z'},\n",
       "  {'set_num': '0013-1',\n",
       "   'name': 'Space Mini-Figures',\n",
       "   'year': 1979,\n",
       "   'theme_id': 143,\n",
       "   'num_parts': 12,\n",
       "   'set_img_url': 'https://cdn.rebrickable.com/media/sets/0013-1/1988.jpg',\n",
       "   'set_url': 'https://rebrickable.com/sets/0013-1/space-mini-figures/',\n",
       "   'last_modified_dt': '2013-11-08T20:55:48.506908Z'},\n",
       "  {'set_num': '0014-1',\n",
       "   'name': 'Space Mini-Figures',\n",
       "   'year': 1979,\n",
       "   'theme_id': 143,\n",
       "   'num_parts': 12,\n",
       "   'set_img_url': 'https://cdn.rebrickable.com/media/sets/0014-1/2003.jpg',\n",
       "   'set_url': 'https://rebrickable.com/sets/0014-1/space-mini-figures/',\n",
       "   'last_modified_dt': '2013-11-08T20:58:36.599408Z'},\n",
       "  {'set_num': '0015-1',\n",
       "   'name': 'Space Mini-Figures',\n",
       "   'year': 1979,\n",
       "   'theme_id': 143,\n",
       "   'num_parts': 18,\n",
       "   'set_img_url': 'https://cdn.rebrickable.com/media/sets/0015-1/13050.jpg',\n",
       "   'set_url': 'https://rebrickable.com/sets/0015-1/space-mini-figures/',\n",
       "   'last_modified_dt': '2013-12-12T23:11:52.018183Z'},\n",
       "  {'set_num': '0016-1',\n",
       "   'name': 'Castle Mini Figures',\n",
       "   'year': 1979,\n",
       "   'theme_id': 186,\n",
       "   'num_parts': 15,\n",
       "   'set_img_url': 'https://cdn.rebrickable.com/media/sets/0016-1/9284.jpg',\n",
       "   'set_url': 'https://rebrickable.com/sets/0016-1/castle-mini-figures/',\n",
       "   'last_modified_dt': '2021-05-11T13:21:27.425619Z'},\n",
       "  {'set_num': '002-1',\n",
       "   'name': '4.5V Samsonite Gears Motor Set',\n",
       "   'year': 1965,\n",
       "   'theme_id': 1,\n",
       "   'num_parts': 3,\n",
       "   'set_img_url': 'https://cdn.rebrickable.com/media/sets/002-1/3643.jpg',\n",
       "   'set_url': 'https://rebrickable.com/sets/002-1/45v-samsonite-gears-motor-set/',\n",
       "   'last_modified_dt': '2018-05-06T11:34:38.029101Z'},\n",
       "  {'set_num': '002253963-1',\n",
       "   'name': 'Legend of Chima: Corbeaux et Gorilles',\n",
       "   'year': 2013,\n",
       "   'theme_id': 497,\n",
       "   'num_parts': 4,\n",
       "   'set_img_url': 'https://cdn.rebrickable.com/media/sets/002253963-1/100555.jpg',\n",
       "   'set_url': 'https://rebrickable.com/sets/002253963-1/legend-of-chima-corbeaux-et-gorilles/',\n",
       "   'last_modified_dt': '2022-04-08T04:43:50.619168Z'}]}"
      ]
     },
     "execution_count": 10,
     "metadata": {},
     "output_type": "execute_result"
    }
   ],
   "source": [
    "pageSize = '10'\n",
    "url = 'https://rebrickable.com/api/v3/lego/sets/?key=' + API_KEY + '&page_size=' + pageSize\n",
    "response = requests.get(url).json()\n",
    "response"
   ]
  }
 ],
 "metadata": {
  "kernelspec": {
   "display_name": "Python 3.10.4 64-bit",
   "language": "python",
   "name": "python3"
  },
  "language_info": {
   "codemirror_mode": {
    "name": "ipython",
    "version": 3
   },
   "file_extension": ".py",
   "mimetype": "text/x-python",
   "name": "python",
   "nbconvert_exporter": "python",
   "pygments_lexer": "ipython3",
   "version": "3.10.4"
  },
  "orig_nbformat": 4,
  "vscode": {
   "interpreter": {
    "hash": "74967114f9e103cfcf007de7f9606eb080b92d81d6d7801f342689488fd644d4"
   }
  }
 },
 "nbformat": 4,
 "nbformat_minor": 2
}
