{
 "cells": [
  {
   "cell_type": "code",
   "execution_count": null,
   "metadata": {},
   "outputs": [],
   "source": [
    "from csv import *\n",
    "from db_handler import *\n",
    "from api_handler import *\n",
    "import json\n",
    "import pandas as pd"
   ]
  },
  {
   "cell_type": "code",
   "execution_count": null,
   "metadata": {},
   "outputs": [],
   "source": [
    "keys = json.load(open('keys.json'))\n",
    "API_KEY = keys['API_KEY']"
   ]
  },
  {
   "cell_type": "code",
   "execution_count": null,
   "metadata": {},
   "outputs": [],
   "source": [
    "endpoints = ['themes','sets']\n",
    "dfs = {}\n",
    "for endpoint in endpoints:\n",
    "    dfs[f'{endpoint}'] = get_df_from_api(endpoint,API_KEY,'50')"
   ]
  },
  {
   "cell_type": "code",
   "execution_count": null,
   "metadata": {},
   "outputs": [],
   "source": [
    "url = build_url('sets',API_KEY,'50')\n",
    "url += '&page=62'\n",
    "requests.get(url).json()"
   ]
  },
  {
   "cell_type": "code",
   "execution_count": null,
   "metadata": {},
   "outputs": [],
   "source": [
    "url = build_url('sets',API_KEY,'50')\n",
    "response = requests.get(url).json()\n",
    "next_url = response['next']\n",
    "print(next_url)\n",
    "while next_url:\n",
    "    response = requests.get(next_url).json()\n",
    "    next_url = response['next']\n",
    "    print(next_url)"
   ]
  },
  {
   "cell_type": "code",
   "execution_count": null,
   "metadata": {},
   "outputs": [],
   "source": [
    "table_statement = create_table_statement(new_df, endpoint)"
   ]
  },
  {
   "cell_type": "code",
   "execution_count": null,
   "metadata": {},
   "outputs": [],
   "source": [
    "connection_data = json.load(open('connection_data.json'))\n",
    "host_name = connection_data['host_name']\n",
    "dbname = connection_data['dbname']\n",
    "username = connection_data['username']\n",
    "password = connection_data['password']\n",
    "port = connection_data['port']\n",
    "conn = None\n",
    "\n",
    "conn = connect_to_db(host_name, dbname, username, password, port)"
   ]
  },
  {
   "cell_type": "code",
   "execution_count": null,
   "metadata": {},
   "outputs": [],
   "source": [
    "curr = conn.cursor()"
   ]
  },
  {
   "cell_type": "code",
   "execution_count": null,
   "metadata": {},
   "outputs": [],
   "source": [
    "create_table(curr, table_statement)"
   ]
  },
  {
   "cell_type": "code",
   "execution_count": null,
   "metadata": {},
   "outputs": [],
   "source": [
    "conn.commit()"
   ]
  },
  {
   "cell_type": "code",
   "execution_count": null,
   "metadata": {},
   "outputs": [],
   "source": [
    "new_set_df = update_db(curr, new_df)"
   ]
  },
  {
   "cell_type": "code",
   "execution_count": null,
   "metadata": {},
   "outputs": [],
   "source": [
    "append_from_df_to_db(curr,new_set_df)"
   ]
  }
 ],
 "metadata": {
  "kernelspec": {
   "display_name": "Python 3.10.4 64-bit",
   "language": "python",
   "name": "python3"
  },
  "language_info": {
   "codemirror_mode": {
    "name": "ipython",
    "version": 3
   },
   "file_extension": ".py",
   "mimetype": "text/x-python",
   "name": "python",
   "nbconvert_exporter": "python",
   "pygments_lexer": "ipython3",
   "version": "3.10.4"
  },
  "orig_nbformat": 4,
  "vscode": {
   "interpreter": {
    "hash": "74967114f9e103cfcf007de7f9606eb080b92d81d6d7801f342689488fd644d4"
   }
  }
 },
 "nbformat": 4,
 "nbformat_minor": 2
}
