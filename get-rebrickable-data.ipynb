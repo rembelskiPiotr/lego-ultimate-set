{
 "cells": [
  {
   "cell_type": "code",
   "execution_count": null,
   "metadata": {},
   "outputs": [],
   "source": [
    "import requests\n",
    "import pandas as pd\n",
    "import json"
   ]
  },
  {
   "cell_type": "code",
   "execution_count": null,
   "metadata": {},
   "outputs": [],
   "source": [
    "keys = json.load(open('keys.json'))\n",
    "API_KEY = keys['API_KEY']\n"
   ]
  },
  {
   "cell_type": "code",
   "execution_count": null,
   "metadata": {},
   "outputs": [],
   "source": [
    "pageSize = '10'\n",
    "url = 'https://rebrickable.com/api/v3/lego/sets/?key=' + API_KEY + '&page_size=' + pageSize\n",
    "response = requests.get(url)\n",
    "results = response.json()['results']\n",
    "df = pd.json_normalize(results)\n",
    "df.head()"
   ]
  }
 ],
 "metadata": {
  "kernelspec": {
   "display_name": "Python 3.10.4 64-bit",
   "language": "python",
   "name": "python3"
  },
  "language_info": {
   "codemirror_mode": {
    "name": "ipython",
    "version": 3
   },
   "file_extension": ".py",
   "mimetype": "text/x-python",
   "name": "python",
   "nbconvert_exporter": "python",
   "pygments_lexer": "ipython3",
   "version": "3.10.4"
  },
  "orig_nbformat": 4,
  "vscode": {
   "interpreter": {
    "hash": "74967114f9e103cfcf007de7f9606eb080b92d81d6d7801f342689488fd644d4"
   }
  }
 },
 "nbformat": 4,
 "nbformat_minor": 2
}
