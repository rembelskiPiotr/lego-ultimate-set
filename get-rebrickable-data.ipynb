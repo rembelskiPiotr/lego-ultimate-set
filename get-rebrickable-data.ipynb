{
 "cells": [
  {
   "cell_type": "code",
   "execution_count": 14,
   "metadata": {},
   "outputs": [],
   "source": [
    "import requests\n",
    "import pandas as pd\n",
    "import json\n",
    "import psycopg2 as ps\n",
    "import os"
   ]
  },
  {
   "cell_type": "code",
   "execution_count": 15,
   "metadata": {},
   "outputs": [],
   "source": [
    "load_dir = \"initial_load\""
   ]
  },
  {
   "cell_type": "code",
   "execution_count": 16,
   "metadata": {},
   "outputs": [],
   "source": [
    "def list_csv_files(directory):\n",
    "    csv_files = []\n",
    "    for file in os.listdir(directory):\n",
    "        if file.endswith(\".csv\"):\n",
    "            csv_files.append(file)\n",
    "    return csv_files"
   ]
  },
  {
   "cell_type": "code",
   "execution_count": 17,
   "metadata": {},
   "outputs": [],
   "source": [
    "def create_df_from_csv(directory, csv_files):\n",
    "    data_path = directory + '/'\n",
    "\n",
    "    df = {}\n",
    "    for file in csv_files:\n",
    "        try:\n",
    "            df[file] = pd.read_csv(data_path + file)\n",
    "        except UnicodeDecodeError:\n",
    "            df[file] = pd.read_csv(data_path + file, encoding=\"ISO-8859-1\")\n",
    "    return df\n"
   ]
  },
  {
   "cell_type": "code",
   "execution_count": 8,
   "metadata": {},
   "outputs": [],
   "source": [
    "keys = json.load(open('keys.json'))\n",
    "API_KEY = keys['API_KEY']\n"
   ]
  },
  {
   "cell_type": "code",
   "execution_count": 9,
   "metadata": {},
   "outputs": [
    {
     "data": {
      "text/html": [
       "<div>\n",
       "<style scoped>\n",
       "    .dataframe tbody tr th:only-of-type {\n",
       "        vertical-align: middle;\n",
       "    }\n",
       "\n",
       "    .dataframe tbody tr th {\n",
       "        vertical-align: top;\n",
       "    }\n",
       "\n",
       "    .dataframe thead th {\n",
       "        text-align: right;\n",
       "    }\n",
       "</style>\n",
       "<table border=\"1\" class=\"dataframe\">\n",
       "  <thead>\n",
       "    <tr style=\"text-align: right;\">\n",
       "      <th></th>\n",
       "      <th>set_num</th>\n",
       "      <th>name</th>\n",
       "      <th>year</th>\n",
       "      <th>theme_id</th>\n",
       "      <th>num_parts</th>\n",
       "      <th>set_img_url</th>\n",
       "      <th>set_url</th>\n",
       "      <th>last_modified_dt</th>\n",
       "    </tr>\n",
       "  </thead>\n",
       "  <tbody>\n",
       "    <tr>\n",
       "      <th>0</th>\n",
       "      <td>001-1</td>\n",
       "      <td>Gears</td>\n",
       "      <td>1965</td>\n",
       "      <td>1</td>\n",
       "      <td>43</td>\n",
       "      <td>https://cdn.rebrickable.com/media/sets/001-1/1...</td>\n",
       "      <td>https://rebrickable.com/sets/001-1/gears/</td>\n",
       "      <td>2018-05-05T20:39:47.277922Z</td>\n",
       "    </tr>\n",
       "    <tr>\n",
       "      <th>1</th>\n",
       "      <td>0011-2</td>\n",
       "      <td>Town Mini-Figures</td>\n",
       "      <td>1979</td>\n",
       "      <td>67</td>\n",
       "      <td>12</td>\n",
       "      <td>https://cdn.rebrickable.com/media/sets/0011-2/...</td>\n",
       "      <td>https://rebrickable.com/sets/0011-2/town-mini-...</td>\n",
       "      <td>2021-07-04T19:03:52.273186Z</td>\n",
       "    </tr>\n",
       "    <tr>\n",
       "      <th>2</th>\n",
       "      <td>0011-3</td>\n",
       "      <td>Castle 2 for 1 Bonus Offer</td>\n",
       "      <td>1987</td>\n",
       "      <td>199</td>\n",
       "      <td>0</td>\n",
       "      <td>https://cdn.rebrickable.com/media/sets/0011-3/...</td>\n",
       "      <td>https://rebrickable.com/sets/0011-3/castle-2-f...</td>\n",
       "      <td>2012-04-01T04:47:31.488559Z</td>\n",
       "    </tr>\n",
       "    <tr>\n",
       "      <th>3</th>\n",
       "      <td>0012-1</td>\n",
       "      <td>Space Mini-Figures</td>\n",
       "      <td>1979</td>\n",
       "      <td>143</td>\n",
       "      <td>12</td>\n",
       "      <td>https://cdn.rebrickable.com/media/sets/0012-1/...</td>\n",
       "      <td>https://rebrickable.com/sets/0012-1/space-mini...</td>\n",
       "      <td>2013-12-12T23:12:14.245364Z</td>\n",
       "    </tr>\n",
       "    <tr>\n",
       "      <th>4</th>\n",
       "      <td>0013-1</td>\n",
       "      <td>Space Mini-Figures</td>\n",
       "      <td>1979</td>\n",
       "      <td>143</td>\n",
       "      <td>12</td>\n",
       "      <td>https://cdn.rebrickable.com/media/sets/0013-1/...</td>\n",
       "      <td>https://rebrickable.com/sets/0013-1/space-mini...</td>\n",
       "      <td>2013-11-08T20:55:48.506908Z</td>\n",
       "    </tr>\n",
       "  </tbody>\n",
       "</table>\n",
       "</div>"
      ],
      "text/plain": [
       "  set_num                        name  year  theme_id  num_parts  \\\n",
       "0   001-1                       Gears  1965         1         43   \n",
       "1  0011-2           Town Mini-Figures  1979        67         12   \n",
       "2  0011-3  Castle 2 for 1 Bonus Offer  1987       199          0   \n",
       "3  0012-1          Space Mini-Figures  1979       143         12   \n",
       "4  0013-1          Space Mini-Figures  1979       143         12   \n",
       "\n",
       "                                         set_img_url  \\\n",
       "0  https://cdn.rebrickable.com/media/sets/001-1/1...   \n",
       "1  https://cdn.rebrickable.com/media/sets/0011-2/...   \n",
       "2  https://cdn.rebrickable.com/media/sets/0011-3/...   \n",
       "3  https://cdn.rebrickable.com/media/sets/0012-1/...   \n",
       "4  https://cdn.rebrickable.com/media/sets/0013-1/...   \n",
       "\n",
       "                                             set_url  \\\n",
       "0          https://rebrickable.com/sets/001-1/gears/   \n",
       "1  https://rebrickable.com/sets/0011-2/town-mini-...   \n",
       "2  https://rebrickable.com/sets/0011-3/castle-2-f...   \n",
       "3  https://rebrickable.com/sets/0012-1/space-mini...   \n",
       "4  https://rebrickable.com/sets/0013-1/space-mini...   \n",
       "\n",
       "              last_modified_dt  \n",
       "0  2018-05-05T20:39:47.277922Z  \n",
       "1  2021-07-04T19:03:52.273186Z  \n",
       "2  2012-04-01T04:47:31.488559Z  \n",
       "3  2013-12-12T23:12:14.245364Z  \n",
       "4  2013-11-08T20:55:48.506908Z  "
      ]
     },
     "execution_count": 9,
     "metadata": {},
     "output_type": "execute_result"
    }
   ],
   "source": [
    "page_size = '10'\n",
    "url = 'https://rebrickable.com/api/v3/lego/sets/?key=' + API_KEY + '&page_size=' + page_size\n",
    "response = requests.get(url)\n",
    "results = response.json()['results']\n",
    "df = pd.json_normalize(results)\n",
    "df.head()"
   ]
  },
  {
   "cell_type": "code",
   "execution_count": null,
   "metadata": {},
   "outputs": [],
   "source": [
    "def connect_to_db(host_name, dbname, username, password, port):\n",
    "    try:\n",
    "        conn = ps.connect(host=host_name, database=dbname, user=username, password=password, port=port)\n",
    "    except ps.OperationalError as err:\n",
    "        raise err\n",
    "    else:\n",
    "        print('Connected!')\n",
    "        return conn"
   ]
  },
  {
   "cell_type": "code",
   "execution_count": null,
   "metadata": {},
   "outputs": [],
   "source": [
    "def create_table(curr):\n",
    "    create_table_command = (\"\"\"CREATE TABLE IF NOT EXISTS sets (\n",
    "                    set_num VARCHAR(255) PRIMARY KEY,\n",
    "                    name TEXT,\n",
    "                    year INTEGER,\n",
    "                    theme_id INTEGER,\n",
    "                    num_parts INTEGER,\n",
    "                    set_img_url TEXT,\n",
    "    )\"\"\")\n",
    "\n",
    "    curr.execute(create_table_command)"
   ]
  },
  {
   "cell_type": "code",
   "execution_count": null,
   "metadata": {},
   "outputs": [],
   "source": [
    "def check_if_row_exists(curr, set_num):\n",
    "    query = (\"\"\"SELECT set_num FROM sets WHERE set_num = %s\"\"\")\n",
    "    curr.execute(query, (set_num,))\n",
    "\n",
    "    return curr.fetchone() is not None"
   ]
  },
  {
   "cell_type": "code",
   "execution_count": null,
   "metadata": {},
   "outputs": [],
   "source": [
    "def update_row(curr, name, year, theme_id, num_parts, set_img_url, set_url, last_modified_dt):\n",
    "    query = (\"\"\"UPDATE set_num\n",
    "            SET name = %s,\n",
    "                year = %s,\n",
    "                theme_id = %s,\n",
    "                num_parts = %s,\n",
    "                set_img_url = %s,\n",
    "            WHERE set_num = %s\"\"\")\n",
    "\n",
    "    vars_to_update = (name, year, theme_id, num_parts, set_img_url, set_url, last_modified_dt)\n",
    "    curr.execute(query, vars_to_update)"
   ]
  },
  {
   "cell_type": "code",
   "execution_count": null,
   "metadata": {},
   "outputs": [],
   "source": [
    "def update_db(curr, df):\n",
    "    temp_df = pd.DataFrame(columns=['set_num', 'name', 'year', 'theme_id', 'num_parts', 'set_img_url'])\n",
    "\n",
    "    for i, row in df.iterrows():\n",
    "        if check_if_row_exists(curr, row['set_num']):\n",
    "            update_row(curr, row['name'], row['year'], row['theme_id'], row['num_parts'], row['set_img_url'])\n",
    "        else:\n",
    "            temp_df = temp_df.append(row)\n",
    "    return temp_df"
   ]
  },
  {
   "cell_type": "code",
   "execution_count": null,
   "metadata": {},
   "outputs": [],
   "source": [
    "def insert_into_table(curr, set_num, name, year, theme_id, num_parts, set_img_url, set_url, last_modified_dt):\n",
    "    insert_into_sets = (\n",
    "        \"\"\"INSERT INTO sets (set_num, name, year, theme_id, num_parts, set_img_url) VALUES(%s, %s, %s, %s, %s, %s)\"\"\")\n",
    "\n",
    "    rows_to_insert = (set_num, name, year, theme_id, num_parts,\n",
    "                      set_img_url, set_url, last_modified_dt)\n",
    "    curr.execute(insert_into_sets, rows_to_insert)\n"
   ]
  },
  {
   "cell_type": "code",
   "execution_count": null,
   "metadata": {},
   "outputs": [],
   "source": [
    "def append_from_df_to_db(curr, df):\n",
    "    for i, row in df.iterrows():\n",
    "        insert_into_table(curr,row['set_num'], row['name'], row['year'], row['theme_id'], row['num_parts'], row['set_img_url'])\n"
   ]
  },
  {
   "cell_type": "code",
   "execution_count": 18,
   "metadata": {},
   "outputs": [
    {
     "ename": "NameError",
     "evalue": "name 'connect_to_db' is not defined",
     "output_type": "error",
     "traceback": [
      "\u001b[1;31m---------------------------------------------------------------------------\u001b[0m",
      "\u001b[1;31mNameError\u001b[0m                                 Traceback (most recent call last)",
      "\u001b[1;32mc:\\Users\\piotr.rembelski\\projects\\lego-ultimate-set\\get-rebrickable-data.ipynb Cell 14\u001b[0m in \u001b[0;36m<cell line: 9>\u001b[1;34m()\u001b[0m\n\u001b[0;32m      <a href='vscode-notebook-cell:/c%3A/Users/piotr.rembelski/projects/lego-ultimate-set/get-rebrickable-data.ipynb#X13sZmlsZQ%3D%3D?line=5'>6</a>\u001b[0m port \u001b[39m=\u001b[39m connection_data[\u001b[39m'\u001b[39m\u001b[39mport\u001b[39m\u001b[39m'\u001b[39m]\n\u001b[0;32m      <a href='vscode-notebook-cell:/c%3A/Users/piotr.rembelski/projects/lego-ultimate-set/get-rebrickable-data.ipynb#X13sZmlsZQ%3D%3D?line=6'>7</a>\u001b[0m conn \u001b[39m=\u001b[39m \u001b[39mNone\u001b[39;00m\n\u001b[1;32m----> <a href='vscode-notebook-cell:/c%3A/Users/piotr.rembelski/projects/lego-ultimate-set/get-rebrickable-data.ipynb#X13sZmlsZQ%3D%3D?line=8'>9</a>\u001b[0m conn \u001b[39m=\u001b[39m connect_to_db(host_name, dbname, username, password, port)\n",
      "\u001b[1;31mNameError\u001b[0m: name 'connect_to_db' is not defined"
     ]
    }
   ],
   "source": [
    "connection_data = json.load(open('connection_data.json'))\n",
    "host_name = connection_data['host_name']\n",
    "dbname = connection_data['dbname']\n",
    "username = connection_data['username']\n",
    "password = connection_data['password']\n",
    "port = connection_data['port']\n",
    "conn = None\n",
    "\n",
    "conn = connect_to_db(host_name, dbname, username, password, port)"
   ]
  },
  {
   "cell_type": "code",
   "execution_count": null,
   "metadata": {},
   "outputs": [],
   "source": [
    "curr = conn.cursor()"
   ]
  },
  {
   "cell_type": "code",
   "execution_count": null,
   "metadata": {},
   "outputs": [],
   "source": [
    "create_table(curr)"
   ]
  },
  {
   "cell_type": "code",
   "execution_count": null,
   "metadata": {},
   "outputs": [],
   "source": [
    "new_set_df = update_db(curr, df)"
   ]
  },
  {
   "cell_type": "code",
   "execution_count": null,
   "metadata": {},
   "outputs": [],
   "source": [
    "append_from_df_to_db(curr,new_set_df)"
   ]
  },
  {
   "cell_type": "code",
   "execution_count": null,
   "metadata": {},
   "outputs": [],
   "source": [
    "conn.commit()"
   ]
  }
 ],
 "metadata": {
  "kernelspec": {
   "display_name": "Python 3.10.4 64-bit",
   "language": "python",
   "name": "python3"
  },
  "language_info": {
   "codemirror_mode": {
    "name": "ipython",
    "version": 3
   },
   "file_extension": ".py",
   "mimetype": "text/x-python",
   "name": "python",
   "nbconvert_exporter": "python",
   "pygments_lexer": "ipython3",
   "version": "3.10.4"
  },
  "orig_nbformat": 4,
  "vscode": {
   "interpreter": {
    "hash": "74967114f9e103cfcf007de7f9606eb080b92d81d6d7801f342689488fd644d4"
   }
  }
 },
 "nbformat": 4,
 "nbformat_minor": 2
}
