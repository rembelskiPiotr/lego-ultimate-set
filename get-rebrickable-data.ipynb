{
 "cells": [
  {
   "cell_type": "code",
   "execution_count": null,
   "metadata": {},
   "outputs": [],
   "source": [
    "import requests\n",
    "import pandas as pd\n",
    "import json\n",
    "import psycopg2 as ps"
   ]
  },
  {
   "cell_type": "code",
   "execution_count": null,
   "metadata": {},
   "outputs": [],
   "source": [
    "keys = json.load(open('keys.json'))\n",
    "API_KEY = keys['API_KEY']\n"
   ]
  },
  {
   "cell_type": "code",
   "execution_count": null,
   "metadata": {},
   "outputs": [],
   "source": [
    "pageSize = '10'\n",
    "url = 'https://rebrickable.com/api/v3/lego/sets/?key=' + API_KEY + '&page_size=' + pageSize\n",
    "response = requests.get(url)\n",
    "results = response.json()['results']\n",
    "df = pd.json_normalize(results)\n",
    "df.head()"
   ]
  },
  {
   "cell_type": "code",
   "execution_count": null,
   "metadata": {},
   "outputs": [],
   "source": [
    "def connect_to_db(host_name, dbname, username, password, port):\n",
    "    try:\n",
    "        conn = ps.connect(host=host_name, database=dbname, user=username, password=password, port=port)\n",
    "    except ps.OperationalError as err:\n",
    "        raise err\n",
    "    else:\n",
    "        print('Connected!')\n",
    "        return conn"
   ]
  },
  {
   "cell_type": "code",
   "execution_count": null,
   "metadata": {},
   "outputs": [],
   "source": [
    "def create_table(curr):\n",
    "    create_table_command = (\"\"\"CREATE TABLE IF NOT EXISTS sets (\n",
    "                    set_num VARCHAR(255) PRIMARY KEY,\n",
    "                    name TEXT,\n",
    "                    year INTEGER,\n",
    "                    theme_id INTEGER,\n",
    "                    num_parts INTEGER,\n",
    "                    set_img_url TEXT,\n",
    "                    set_url TEXT,\n",
    "                    last_modified_dt DATE\n",
    "    )\"\"\")\n",
    "\n",
    "    curr.execute(create_table_command)"
   ]
  },
  {
   "cell_type": "code",
   "execution_count": null,
   "metadata": {},
   "outputs": [],
   "source": [
    "def check_if_row_exists(curr, set_num):\n",
    "    query = (\"\"\"SELECT set_num FROM sets WHERE set_num = %s\"\"\")\n",
    "    curr.execute(query, (set_num,))\n",
    "\n",
    "    return curr.fetchone() is not None"
   ]
  },
  {
   "cell_type": "code",
   "execution_count": null,
   "metadata": {},
   "outputs": [],
   "source": [
    "def update_row(curr, name, year, theme_id, num_parts, set_img_url, set_url, last_modified_dt):\n",
    "    query = (\"\"\"UPDATE set_num\n",
    "            SET name = %s,\n",
    "                year = %s,\n",
    "                theme_id = %s,\n",
    "                num_parts = %s,\n",
    "                set_img_url = %s,\n",
    "                set_url = %s,\n",
    "                last_modified_dt = %s\n",
    "            WHERE set_num = %s\"\"\")\n",
    "\n",
    "    vars_to_update = (name, year, theme_id, num_parts, set_img_url, set_url, last_modified_dt)\n",
    "    curr.execute(query, vars_to_update)"
   ]
  },
  {
   "cell_type": "code",
   "execution_count": null,
   "metadata": {},
   "outputs": [],
   "source": [
    "def update_db(curr, df):\n",
    "    temp_df = pd.DataFrame(columns=['set_num', 'name', 'year', 'theme_id', 'num_parts', 'set_img_url', 'set_url', 'last_modified_dt'])\n",
    "\n",
    "    for i, row in df.iterrows():\n",
    "        if check_if_row_exists(curr, row['set_num']):\n",
    "            update_row(curr, row['name'], row['year'], row['theme_id'], row['num_parts'], row['set_img_url'], row['set_url'], row['last_modified_dt'])\n",
    "        else:\n",
    "            temp_df = temp_df.append(row)\n",
    "    return temp_df"
   ]
  },
  {
   "cell_type": "code",
   "execution_count": null,
   "metadata": {},
   "outputs": [],
   "source": [
    "def insert_into_table(curr, set_num, name, year, theme_id, num_parts, set_img_url, set_url, last_modified_dt):\n",
    "    insert_into_sets = (\n",
    "        \"\"\"INSERT INTO sets (set_num, name, year, theme_id, num_parts, set_img_url, set_url, last_modified_dt) VALUES(%s, %s, %s, %s, %s, %s, %s, %s)\"\"\")\n",
    "\n",
    "    rows_to_insert = (set_num, name, year, theme_id, num_parts,\n",
    "                      set_img_url, set_url, last_modified_dt)\n",
    "    curr.execute(insert_into_sets, rows_to_insert)\n"
   ]
  },
  {
   "cell_type": "code",
   "execution_count": null,
   "metadata": {},
   "outputs": [],
   "source": [
    "def append_from_df_to_db(curr, df):\n",
    "    for i, row in df.iterrows():\n",
    "        insert_into_table(curr,row['set_num'], row['name'], row['year'], row['theme_id'], row['num_parts'], row['set_img_url'], row['set_url'], row['last_modified_dt'])\n"
   ]
  },
  {
   "cell_type": "code",
   "execution_count": null,
   "metadata": {},
   "outputs": [],
   "source": [
    "connection_data = json.load(open('connection_data.json'))\n",
    "host_name = connection_data['host_name']\n",
    "dbname = connection_data['dbname']\n",
    "username = connection_data['username']\n",
    "password = connection_data['password']\n",
    "port = connection_data['port']\n",
    "conn = None\n",
    "\n",
    "conn = connect_to_db(host_name, dbname, username, password, port)"
   ]
  },
  {
   "cell_type": "code",
   "execution_count": null,
   "metadata": {},
   "outputs": [],
   "source": [
    "curr = conn.cursor()"
   ]
  },
  {
   "cell_type": "code",
   "execution_count": null,
   "metadata": {},
   "outputs": [],
   "source": [
    "create_table(curr)"
   ]
  },
  {
   "cell_type": "code",
   "execution_count": null,
   "metadata": {},
   "outputs": [],
   "source": [
    "new_set_df = update_db(curr, df)"
   ]
  },
  {
   "cell_type": "code",
   "execution_count": null,
   "metadata": {},
   "outputs": [],
   "source": [
    "append_from_df_to_db(curr,new_set_df)"
   ]
  },
  {
   "cell_type": "code",
   "execution_count": null,
   "metadata": {},
   "outputs": [],
   "source": [
    "conn.commit()"
   ]
  }
 ],
 "metadata": {
  "kernelspec": {
   "display_name": "Python 3.10.4 64-bit",
   "language": "python",
   "name": "python3"
  },
  "language_info": {
   "codemirror_mode": {
    "name": "ipython",
    "version": 3
   },
   "file_extension": ".py",
   "mimetype": "text/x-python",
   "name": "python",
   "nbconvert_exporter": "python",
   "pygments_lexer": "ipython3",
   "version": "3.10.4"
  },
  "orig_nbformat": 4,
  "vscode": {
   "interpreter": {
    "hash": "74967114f9e103cfcf007de7f9606eb080b92d81d6d7801f342689488fd644d4"
   }
  }
 },
 "nbformat": 4,
 "nbformat_minor": 2
}
