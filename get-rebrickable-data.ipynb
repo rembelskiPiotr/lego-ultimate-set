{
 "cells": [
  {
   "cell_type": "code",
   "execution_count": null,
   "metadata": {},
   "outputs": [],
   "source": [
    "from csv import *\n",
    "from db_handler import *\n",
    "from api_call_handler import *\n",
    "import json"
   ]
  },
  {
   "cell_type": "code",
   "execution_count": null,
   "metadata": {},
   "outputs": [],
   "source": [
    "keys = json.load(open('keys.json'))\n",
    "API_KEY = keys['API_KEY']"
   ]
  },
  {
   "cell_type": "code",
   "execution_count": null,
   "metadata": {},
   "outputs": [],
   "source": [
    "endpoint = 'sets'\n",
    "new_df = get_df_from_api(endpoint,API_KEY,'20')"
   ]
  },
  {
   "cell_type": "code",
   "execution_count": null,
   "metadata": {},
   "outputs": [],
   "source": [
    "create_table_statement(new_df, endpoint)"
   ]
  },
  {
   "cell_type": "code",
   "execution_count": null,
   "metadata": {},
   "outputs": [],
   "source": [
    "\n",
    "\n",
    "replacements = {\n",
    "    'timedelta64[ns]': 'varchar',\n",
    "    'object': 'varchar',\n",
    "    'float64': 'float',\n",
    "    'int64': 'int',\n",
    "    'datetime64': 'timestamp'\n",
    "}\n",
    "column_string = ''\n",
    "for column, dtype in zip(new_df.columns, new_df.dtypes.replace(replacements)):\n",
    "    column_string += '{} {},'.format(column, dtype)\n",
    "\n",
    "table_statement = 'create table if not exists {} ({})'.format(\n",
    "    endpoint, column_string)\n",
    "\n",
    "table_statement"
   ]
  },
  {
   "cell_type": "code",
   "execution_count": null,
   "metadata": {},
   "outputs": [],
   "source": [
    "load_dir = \"initial_load\""
   ]
  },
  {
   "cell_type": "code",
   "execution_count": null,
   "metadata": {},
   "outputs": [],
   "source": [
    "connection_data = json.load(open('connection_data.json'))\n",
    "host_name = connection_data['host_name']\n",
    "dbname = connection_data['dbname']\n",
    "username = connection_data['username']\n",
    "password = connection_data['password']\n",
    "port = connection_data['port']\n",
    "conn = None\n",
    "\n",
    "conn = connect_to_db(host_name, dbname, username, password, port)"
   ]
  },
  {
   "cell_type": "code",
   "execution_count": null,
   "metadata": {},
   "outputs": [],
   "source": [
    "curr = conn.cursor()"
   ]
  },
  {
   "cell_type": "code",
   "execution_count": null,
   "metadata": {},
   "outputs": [],
   "source": [
    "create_table(curr)"
   ]
  },
  {
   "cell_type": "code",
   "execution_count": null,
   "metadata": {},
   "outputs": [],
   "source": [
    "new_set_df = update_db(curr, df)"
   ]
  },
  {
   "cell_type": "code",
   "execution_count": null,
   "metadata": {},
   "outputs": [],
   "source": [
    "append_from_df_to_db(curr,new_set_df)"
   ]
  },
  {
   "cell_type": "code",
   "execution_count": null,
   "metadata": {},
   "outputs": [],
   "source": [
    "conn.commit()"
   ]
  }
 ],
 "metadata": {
  "kernelspec": {
   "display_name": "Python 3.10.4 64-bit",
   "language": "python",
   "name": "python3"
  },
  "language_info": {
   "codemirror_mode": {
    "name": "ipython",
    "version": 3
   },
   "file_extension": ".py",
   "mimetype": "text/x-python",
   "name": "python",
   "nbconvert_exporter": "python",
   "pygments_lexer": "ipython3",
   "version": "3.10.4"
  },
  "orig_nbformat": 4,
  "vscode": {
   "interpreter": {
    "hash": "74967114f9e103cfcf007de7f9606eb080b92d81d6d7801f342689488fd644d4"
   }
  }
 },
 "nbformat": 4,
 "nbformat_minor": 2
}
