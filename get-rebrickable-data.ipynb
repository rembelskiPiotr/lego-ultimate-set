{
 "cells": [
  {
   "cell_type": "markdown",
   "metadata": {},
   "source": [
    "* ~~get json data from endpoint /themes~~\n",
    "* ~~create db table /themes~~\n",
    "* ~~put data to df /themes~~\n",
    "* add/update records in table /themes\n",
    "* create db table /sets\n",
    "* get latest timestamp from sets table /sets\n",
    "* get json data from endpoint, order from newest to latest update /sets\n",
    "* add to df only records latest then in table /sets \n",
    "* put data to df /sets\n",
    "* get sets/{set_num}/parts for each set from df and put it to parts df /sets\n",
    "* add/update records in table /sets\n",
    "* create db table /parts\n",
    "* add/update records in table /parts "
   ]
  },
  {
   "cell_type": "code",
   "execution_count": 1,
   "metadata": {},
   "outputs": [],
   "source": [
    "from csv import *\n",
    "from db_handler import *\n",
    "from api_handler import *\n",
    "import json\n",
    "import pandas as pd"
   ]
  },
  {
   "cell_type": "code",
   "execution_count": 2,
   "metadata": {},
   "outputs": [],
   "source": [
    "keys = json.load(open('keys.json'))\n",
    "API_KEY = keys['API_KEY']"
   ]
  },
  {
   "cell_type": "markdown",
   "metadata": {},
   "source": [
    "get json data from themes endpoint"
   ]
  },
  {
   "cell_type": "code",
   "execution_count": 3,
   "metadata": {},
   "outputs": [],
   "source": [
    "endpoint = 'themes'\n",
    "dfs = {}\n",
    "dfs[f'{endpoint}'] = get_df_from_api(endpoint,API_KEY,'50')"
   ]
  },
  {
   "cell_type": "markdown",
   "metadata": {},
   "source": [
    "db connection string"
   ]
  },
  {
   "cell_type": "code",
   "execution_count": 4,
   "metadata": {},
   "outputs": [],
   "source": [
    "connection_data = json.load(open('connection_data.json'))\n",
    "host_name = connection_data['host_name']\n",
    "dbname = connection_data['dbname']\n",
    "username = connection_data['username']\n",
    "password = connection_data['password']\n",
    "port = connection_data['port']\n",
    "conn = None\n",
    "\n",
    "conn = connect_to_db(host_name, dbname, username, password, port)\n",
    "curr = conn.cursor()"
   ]
  },
  {
   "cell_type": "markdown",
   "metadata": {},
   "source": [
    "create themes table"
   ]
  },
  {
   "cell_type": "code",
   "execution_count": null,
   "metadata": {},
   "outputs": [],
   "source": [
    "themes_table_statement = create_table_statement(dfs['themes'],'themes')\n",
    "create_table(curr, themes_table_statement)\n",
    "conn.commit()"
   ]
  },
  {
   "cell_type": "markdown",
   "metadata": {},
   "source": [
    "insert themes data into database"
   ]
  },
  {
   "cell_type": "code",
   "execution_count": 5,
   "metadata": {},
   "outputs": [],
   "source": [
    "insert_into_table_themes(curr, dfs['themes'])\n",
    "conn.commit()"
   ]
  },
  {
   "cell_type": "code",
   "execution_count": null,
   "metadata": {},
   "outputs": [],
   "source": [
    "def insert_into_table(curr,dataframe):\n",
    "    insert_statement = (\"\"\"INSERT INTO themes (id, parent_id, name) VALUES(%s, %s, '%s');\"\"\")\n",
    "    for i, row in dataframe.iterrows():\n",
    "        id = None if str(row['id']) == 'nan' else row['id']\n",
    "        parent_id = None if str(row['parent_id']) == 'nan' else row['parent_id']\n",
    "        name = None if str(row['name']) == 'nan' else row['name']\n",
    "        rows_to_insert = (id, parent_id, name)\n",
    "        print(insert_statement % rows_to_insert)\n",
    "\n",
    "insert_into_table(curr,dfs['themes'])"
   ]
  }
 ],
 "metadata": {
  "kernelspec": {
   "display_name": "Python 3.10.4 64-bit",
   "language": "python",
   "name": "python3"
  },
  "language_info": {
   "codemirror_mode": {
    "name": "ipython",
    "version": 3
   },
   "file_extension": ".py",
   "mimetype": "text/x-python",
   "name": "python",
   "nbconvert_exporter": "python",
   "pygments_lexer": "ipython3",
   "version": "3.10.4"
  },
  "orig_nbformat": 4,
  "vscode": {
   "interpreter": {
    "hash": "74967114f9e103cfcf007de7f9606eb080b92d81d6d7801f342689488fd644d4"
   }
  }
 },
 "nbformat": 4,
 "nbformat_minor": 2
}
