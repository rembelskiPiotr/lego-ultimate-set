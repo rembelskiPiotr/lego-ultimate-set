{
 "cells": [
  {
   "cell_type": "code",
   "execution_count": 23,
   "metadata": {},
   "outputs": [],
   "source": [
    "import requests\n",
    "import pandas as pd\n",
    "import json\n",
    "import psycopg2 as ps"
   ]
  },
  {
   "cell_type": "code",
   "execution_count": 24,
   "metadata": {},
   "outputs": [],
   "source": [
    "keys = json.load(open('keys.json'))\n",
    "API_KEY = keys['API_KEY']\n"
   ]
  },
  {
   "cell_type": "code",
   "execution_count": 25,
   "metadata": {},
   "outputs": [],
   "source": [
    "connection_data = json.load(open('connection_data.json'))\n",
    "host_name = connection_data['host_name']\n",
    "dbname = connection_data['dbname']\n",
    "port = connection_data['port']\n",
    "username = connection_data['username']\n",
    "password = connection_data['password']\n",
    "conn = None"
   ]
  },
  {
   "cell_type": "code",
   "execution_count": 26,
   "metadata": {},
   "outputs": [
    {
     "name": "stdout",
     "output_type": "stream",
     "text": [
      "Connected!\n"
     ]
    }
   ],
   "source": [
    "try:\n",
    "    conn = ps.connect(host=host_name, database=dbname, user=username, password=password, port=port)\n",
    "except ps.OperationalError as err:\n",
    "    raise err\n",
    "else:\n",
    "    print('Connected!')"
   ]
  },
  {
   "cell_type": "code",
   "execution_count": 9,
   "metadata": {},
   "outputs": [
    {
     "data": {
      "text/plain": [
       "<function connection.close>"
      ]
     },
     "execution_count": 9,
     "metadata": {},
     "output_type": "execute_result"
    }
   ],
   "source": [
    "conn.close"
   ]
  },
  {
   "cell_type": "code",
   "execution_count": 27,
   "metadata": {},
   "outputs": [
    {
     "data": {
      "text/html": [
       "<div>\n",
       "<style scoped>\n",
       "    .dataframe tbody tr th:only-of-type {\n",
       "        vertical-align: middle;\n",
       "    }\n",
       "\n",
       "    .dataframe tbody tr th {\n",
       "        vertical-align: top;\n",
       "    }\n",
       "\n",
       "    .dataframe thead th {\n",
       "        text-align: right;\n",
       "    }\n",
       "</style>\n",
       "<table border=\"1\" class=\"dataframe\">\n",
       "  <thead>\n",
       "    <tr style=\"text-align: right;\">\n",
       "      <th></th>\n",
       "      <th>set_num</th>\n",
       "      <th>name</th>\n",
       "      <th>year</th>\n",
       "      <th>theme_id</th>\n",
       "      <th>num_parts</th>\n",
       "      <th>set_img_url</th>\n",
       "      <th>set_url</th>\n",
       "      <th>last_modified_dt</th>\n",
       "    </tr>\n",
       "  </thead>\n",
       "  <tbody>\n",
       "    <tr>\n",
       "      <th>0</th>\n",
       "      <td>001-1</td>\n",
       "      <td>Gears</td>\n",
       "      <td>1965</td>\n",
       "      <td>1</td>\n",
       "      <td>43</td>\n",
       "      <td>https://cdn.rebrickable.com/media/sets/001-1/1...</td>\n",
       "      <td>https://rebrickable.com/sets/001-1/gears/</td>\n",
       "      <td>2018-05-05T20:39:47.277922Z</td>\n",
       "    </tr>\n",
       "    <tr>\n",
       "      <th>1</th>\n",
       "      <td>0011-2</td>\n",
       "      <td>Town Mini-Figures</td>\n",
       "      <td>1979</td>\n",
       "      <td>67</td>\n",
       "      <td>12</td>\n",
       "      <td>https://cdn.rebrickable.com/media/sets/0011-2/...</td>\n",
       "      <td>https://rebrickable.com/sets/0011-2/town-mini-...</td>\n",
       "      <td>2021-07-04T19:03:52.273186Z</td>\n",
       "    </tr>\n",
       "    <tr>\n",
       "      <th>2</th>\n",
       "      <td>0011-3</td>\n",
       "      <td>Castle 2 for 1 Bonus Offer</td>\n",
       "      <td>1987</td>\n",
       "      <td>199</td>\n",
       "      <td>0</td>\n",
       "      <td>https://cdn.rebrickable.com/media/sets/0011-3/...</td>\n",
       "      <td>https://rebrickable.com/sets/0011-3/castle-2-f...</td>\n",
       "      <td>2012-04-01T04:47:31.488559Z</td>\n",
       "    </tr>\n",
       "    <tr>\n",
       "      <th>3</th>\n",
       "      <td>0012-1</td>\n",
       "      <td>Space Mini-Figures</td>\n",
       "      <td>1979</td>\n",
       "      <td>143</td>\n",
       "      <td>12</td>\n",
       "      <td>https://cdn.rebrickable.com/media/sets/0012-1/...</td>\n",
       "      <td>https://rebrickable.com/sets/0012-1/space-mini...</td>\n",
       "      <td>2013-12-12T23:12:14.245364Z</td>\n",
       "    </tr>\n",
       "    <tr>\n",
       "      <th>4</th>\n",
       "      <td>0013-1</td>\n",
       "      <td>Space Mini-Figures</td>\n",
       "      <td>1979</td>\n",
       "      <td>143</td>\n",
       "      <td>12</td>\n",
       "      <td>https://cdn.rebrickable.com/media/sets/0013-1/...</td>\n",
       "      <td>https://rebrickable.com/sets/0013-1/space-mini...</td>\n",
       "      <td>2013-11-08T20:55:48.506908Z</td>\n",
       "    </tr>\n",
       "  </tbody>\n",
       "</table>\n",
       "</div>"
      ],
      "text/plain": [
       "  set_num                        name  year  theme_id  num_parts  \\\n",
       "0   001-1                       Gears  1965         1         43   \n",
       "1  0011-2           Town Mini-Figures  1979        67         12   \n",
       "2  0011-3  Castle 2 for 1 Bonus Offer  1987       199          0   \n",
       "3  0012-1          Space Mini-Figures  1979       143         12   \n",
       "4  0013-1          Space Mini-Figures  1979       143         12   \n",
       "\n",
       "                                         set_img_url  \\\n",
       "0  https://cdn.rebrickable.com/media/sets/001-1/1...   \n",
       "1  https://cdn.rebrickable.com/media/sets/0011-2/...   \n",
       "2  https://cdn.rebrickable.com/media/sets/0011-3/...   \n",
       "3  https://cdn.rebrickable.com/media/sets/0012-1/...   \n",
       "4  https://cdn.rebrickable.com/media/sets/0013-1/...   \n",
       "\n",
       "                                             set_url  \\\n",
       "0          https://rebrickable.com/sets/001-1/gears/   \n",
       "1  https://rebrickable.com/sets/0011-2/town-mini-...   \n",
       "2  https://rebrickable.com/sets/0011-3/castle-2-f...   \n",
       "3  https://rebrickable.com/sets/0012-1/space-mini...   \n",
       "4  https://rebrickable.com/sets/0013-1/space-mini...   \n",
       "\n",
       "              last_modified_dt  \n",
       "0  2018-05-05T20:39:47.277922Z  \n",
       "1  2021-07-04T19:03:52.273186Z  \n",
       "2  2012-04-01T04:47:31.488559Z  \n",
       "3  2013-12-12T23:12:14.245364Z  \n",
       "4  2013-11-08T20:55:48.506908Z  "
      ]
     },
     "execution_count": 27,
     "metadata": {},
     "output_type": "execute_result"
    }
   ],
   "source": [
    "pageSize = '10'\n",
    "url = 'https://rebrickable.com/api/v3/lego/sets/?key=' + API_KEY + '&page_size=' + pageSize\n",
    "response = requests.get(url)\n",
    "results = response.json()['results']\n",
    "df = pd.json_normalize(results)\n",
    "df.head()"
   ]
  },
  {
   "cell_type": "code",
   "execution_count": 28,
   "metadata": {},
   "outputs": [],
   "source": [
    "def create_table(curr):\n",
    "    create_table_command = (\"\"\"CREATE TABLE IF NOT EXISTS sets (\n",
    "                    set_num VARCHAR(255) PRIMARY KEY,\n",
    "                    name TEXT,\n",
    "                    year INTEGER,\n",
    "                    theme_id INTEGER,\n",
    "                    num_parts INTEGER,\n",
    "                    set_img_url TEXT,\n",
    "                    set_url TEXT,\n",
    "                    last_modified_dt DATE\n",
    "    )\"\"\")\n",
    "\n",
    "    curr.execute(create_table_command)"
   ]
  },
  {
   "cell_type": "code",
   "execution_count": 29,
   "metadata": {},
   "outputs": [],
   "source": [
    "curr = conn.cursor()"
   ]
  },
  {
   "cell_type": "code",
   "execution_count": 30,
   "metadata": {},
   "outputs": [],
   "source": [
    "create_table(curr)"
   ]
  },
  {
   "cell_type": "code",
   "execution_count": 31,
   "metadata": {},
   "outputs": [],
   "source": [
    "conn.commit()"
   ]
  }
 ],
 "metadata": {
  "kernelspec": {
   "display_name": "Python 3.10.4 64-bit",
   "language": "python",
   "name": "python3"
  },
  "language_info": {
   "codemirror_mode": {
    "name": "ipython",
    "version": 3
   },
   "file_extension": ".py",
   "mimetype": "text/x-python",
   "name": "python",
   "nbconvert_exporter": "python",
   "pygments_lexer": "ipython3",
   "version": "3.10.4"
  },
  "orig_nbformat": 4,
  "vscode": {
   "interpreter": {
    "hash": "74967114f9e103cfcf007de7f9606eb080b92d81d6d7801f342689488fd644d4"
   }
  }
 },
 "nbformat": 4,
 "nbformat_minor": 2
}
